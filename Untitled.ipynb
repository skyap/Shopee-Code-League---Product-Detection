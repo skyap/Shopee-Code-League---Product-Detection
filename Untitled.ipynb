{
 "cells": [
  {
   "cell_type": "code",
   "execution_count": 1,
   "metadata": {},
   "outputs": [],
   "source": [
    "import pandas as pd\n",
    "from datetime import timedelta,datetime"
   ]
  },
  {
   "cell_type": "code",
   "execution_count": 2,
   "metadata": {},
   "outputs": [
    {
     "data": {
      "text/html": [
       "<div>\n",
       "<style scoped>\n",
       "    .dataframe tbody tr th:only-of-type {\n",
       "        vertical-align: middle;\n",
       "    }\n",
       "\n",
       "    .dataframe tbody tr th {\n",
       "        vertical-align: top;\n",
       "    }\n",
       "\n",
       "    .dataframe thead th {\n",
       "        text-align: right;\n",
       "    }\n",
       "</style>\n",
       "<table border=\"1\" class=\"dataframe\">\n",
       "  <thead>\n",
       "    <tr style=\"text-align: right;\">\n",
       "      <th></th>\n",
       "      <th>orderid</th>\n",
       "      <th>shopid</th>\n",
       "      <th>userid</th>\n",
       "      <th>event_time</th>\n",
       "    </tr>\n",
       "  </thead>\n",
       "  <tbody>\n",
       "    <tr>\n",
       "      <th>0</th>\n",
       "      <td>31076582227611</td>\n",
       "      <td>93950878</td>\n",
       "      <td>30530270</td>\n",
       "      <td>2019-12-27 00:23:03</td>\n",
       "    </tr>\n",
       "    <tr>\n",
       "      <th>1</th>\n",
       "      <td>31118059853484</td>\n",
       "      <td>156423439</td>\n",
       "      <td>46057927</td>\n",
       "      <td>2019-12-27 11:54:20</td>\n",
       "    </tr>\n",
       "    <tr>\n",
       "      <th>2</th>\n",
       "      <td>31123355095755</td>\n",
       "      <td>173699291</td>\n",
       "      <td>67341739</td>\n",
       "      <td>2019-12-27 13:22:35</td>\n",
       "    </tr>\n",
       "    <tr>\n",
       "      <th>3</th>\n",
       "      <td>31122059872723</td>\n",
       "      <td>63674025</td>\n",
       "      <td>149380322</td>\n",
       "      <td>2019-12-27 13:01:00</td>\n",
       "    </tr>\n",
       "    <tr>\n",
       "      <th>4</th>\n",
       "      <td>31117075665123</td>\n",
       "      <td>127249066</td>\n",
       "      <td>149493217</td>\n",
       "      <td>2019-12-27 11:37:55</td>\n",
       "    </tr>\n",
       "  </tbody>\n",
       "</table>\n",
       "</div>"
      ],
      "text/plain": [
       "          orderid     shopid     userid           event_time\n",
       "0  31076582227611   93950878   30530270  2019-12-27 00:23:03\n",
       "1  31118059853484  156423439   46057927  2019-12-27 11:54:20\n",
       "2  31123355095755  173699291   67341739  2019-12-27 13:22:35\n",
       "3  31122059872723   63674025  149380322  2019-12-27 13:01:00\n",
       "4  31117075665123  127249066  149493217  2019-12-27 11:37:55"
      ]
     },
     "execution_count": 2,
     "metadata": {},
     "output_type": "execute_result"
    }
   ],
   "source": [
    "df = pd.read_csv(\"order_brush_order.csv\")\n",
    "df.head()"
   ]
  },
  {
   "cell_type": "code",
   "execution_count": 12,
   "metadata": {},
   "outputs": [
    {
     "data": {
      "text/plain": [
       "(222750, 4)"
      ]
     },
     "execution_count": 12,
     "metadata": {},
     "output_type": "execute_result"
    }
   ],
   "source": [
    "df.shape"
   ]
  },
  {
   "cell_type": "code",
   "execution_count": 5,
   "metadata": {},
   "outputs": [
    {
     "data": {
      "text/html": [
       "<div>\n",
       "<style scoped>\n",
       "    .dataframe tbody tr th:only-of-type {\n",
       "        vertical-align: middle;\n",
       "    }\n",
       "\n",
       "    .dataframe tbody tr th {\n",
       "        vertical-align: top;\n",
       "    }\n",
       "\n",
       "    .dataframe thead th {\n",
       "        text-align: right;\n",
       "    }\n",
       "</style>\n",
       "<table border=\"1\" class=\"dataframe\">\n",
       "  <thead>\n",
       "    <tr style=\"text-align: right;\">\n",
       "      <th></th>\n",
       "      <th>orderid</th>\n",
       "      <th>shopid</th>\n",
       "      <th>userid</th>\n",
       "      <th>event_time</th>\n",
       "    </tr>\n",
       "  </thead>\n",
       "  <tbody>\n",
       "    <tr>\n",
       "      <th>222745</th>\n",
       "      <td>31245479170194</td>\n",
       "      <td>110868129</td>\n",
       "      <td>193218997</td>\n",
       "      <td>2019-12-28 23:17:59</td>\n",
       "    </tr>\n",
       "    <tr>\n",
       "      <th>222746</th>\n",
       "      <td>31230440360374</td>\n",
       "      <td>91639906</td>\n",
       "      <td>3541807</td>\n",
       "      <td>2019-12-28 19:07:20</td>\n",
       "    </tr>\n",
       "    <tr>\n",
       "      <th>222747</th>\n",
       "      <td>31191471145838</td>\n",
       "      <td>29391773</td>\n",
       "      <td>135908070</td>\n",
       "      <td>2019-12-28 08:17:52</td>\n",
       "    </tr>\n",
       "    <tr>\n",
       "      <th>222748</th>\n",
       "      <td>31198471732255</td>\n",
       "      <td>61556313</td>\n",
       "      <td>27306783</td>\n",
       "      <td>2019-12-28 10:14:31</td>\n",
       "    </tr>\n",
       "    <tr>\n",
       "      <th>222749</th>\n",
       "      <td>31164356713822</td>\n",
       "      <td>147941492</td>\n",
       "      <td>127484153</td>\n",
       "      <td>2019-12-28 00:45:56</td>\n",
       "    </tr>\n",
       "  </tbody>\n",
       "</table>\n",
       "</div>"
      ],
      "text/plain": [
       "               orderid     shopid     userid           event_time\n",
       "222745  31245479170194  110868129  193218997  2019-12-28 23:17:59\n",
       "222746  31230440360374   91639906    3541807  2019-12-28 19:07:20\n",
       "222747  31191471145838   29391773  135908070  2019-12-28 08:17:52\n",
       "222748  31198471732255   61556313   27306783  2019-12-28 10:14:31\n",
       "222749  31164356713822  147941492  127484153  2019-12-28 00:45:56"
      ]
     },
     "execution_count": 5,
     "metadata": {},
     "output_type": "execute_result"
    }
   ],
   "source": [
    "df.tail()"
   ]
  },
  {
   "cell_type": "code",
   "execution_count": 3,
   "metadata": {},
   "outputs": [
    {
     "name": "stdout",
     "output_type": "stream",
     "text": [
      "<class 'pandas.core.frame.DataFrame'>\n",
      "RangeIndex: 222750 entries, 0 to 222749\n",
      "Data columns (total 4 columns):\n",
      " #   Column      Non-Null Count   Dtype \n",
      "---  ------      --------------   ----- \n",
      " 0   orderid     222750 non-null  int64 \n",
      " 1   shopid      222750 non-null  int64 \n",
      " 2   userid      222750 non-null  int64 \n",
      " 3   event_time  222750 non-null  object\n",
      "dtypes: int64(3), object(1)\n",
      "memory usage: 6.8+ MB\n"
     ]
    }
   ],
   "source": [
    "df.info()"
   ]
  },
  {
   "cell_type": "code",
   "execution_count": 6,
   "metadata": {},
   "outputs": [],
   "source": [
    "df['event_time'] = pd.to_datetime(df['event_time'],format='%Y-%m-%d %H:%M:%S')"
   ]
  },
  {
   "cell_type": "code",
   "execution_count": 7,
   "metadata": {},
   "outputs": [
    {
     "name": "stdout",
     "output_type": "stream",
     "text": [
      "<class 'pandas.core.frame.DataFrame'>\n",
      "RangeIndex: 222750 entries, 0 to 222749\n",
      "Data columns (total 4 columns):\n",
      " #   Column      Non-Null Count   Dtype         \n",
      "---  ------      --------------   -----         \n",
      " 0   orderid     222750 non-null  int64         \n",
      " 1   shopid      222750 non-null  int64         \n",
      " 2   userid      222750 non-null  int64         \n",
      " 3   event_time  222750 non-null  datetime64[ns]\n",
      "dtypes: datetime64[ns](1), int64(3)\n",
      "memory usage: 6.8 MB\n"
     ]
    }
   ],
   "source": [
    "df.info()"
   ]
  },
  {
   "cell_type": "code",
   "execution_count": 10,
   "metadata": {},
   "outputs": [],
   "source": [
    "shopid = df.shopid.unique()"
   ]
  },
  {
   "cell_type": "code",
   "execution_count": 15,
   "metadata": {},
   "outputs": [],
   "source": [
    "shopid0 = df[df.shopid==shopid[0]].sort_values(by='event_time')\n",
    "display(shopid0.head())"
   ]
  },
  {
   "cell_type": "code",
   "execution_count": 27,
   "metadata": {},
   "outputs": [
    {
     "name": "stdout",
     "output_type": "stream",
     "text": [
      "2019-12-27 00:23:03\n",
      "2019-12-27 01:23:03\n"
     ]
    },
    {
     "data": {
      "text/html": [
       "<div>\n",
       "<style scoped>\n",
       "    .dataframe tbody tr th:only-of-type {\n",
       "        vertical-align: middle;\n",
       "    }\n",
       "\n",
       "    .dataframe tbody tr th {\n",
       "        vertical-align: top;\n",
       "    }\n",
       "\n",
       "    .dataframe thead th {\n",
       "        text-align: right;\n",
       "    }\n",
       "</style>\n",
       "<table border=\"1\" class=\"dataframe\">\n",
       "  <thead>\n",
       "    <tr style=\"text-align: right;\">\n",
       "      <th></th>\n",
       "      <th>orderid</th>\n",
       "      <th>shopid</th>\n",
       "      <th>userid</th>\n",
       "      <th>event_time</th>\n",
       "    </tr>\n",
       "  </thead>\n",
       "  <tbody>\n",
       "    <tr>\n",
       "      <th>0</th>\n",
       "      <td>31076582227611</td>\n",
       "      <td>93950878</td>\n",
       "      <td>30530270</td>\n",
       "      <td>2019-12-27 00:23:03</td>\n",
       "    </tr>\n",
       "    <tr>\n",
       "      <th>151368</th>\n",
       "      <td>31078565549911</td>\n",
       "      <td>93950878</td>\n",
       "      <td>76581354</td>\n",
       "      <td>2019-12-27 00:56:05</td>\n",
       "    </tr>\n",
       "  </tbody>\n",
       "</table>\n",
       "</div>"
      ],
      "text/plain": [
       "               orderid    shopid    userid          event_time\n",
       "0       31076582227611  93950878  30530270 2019-12-27 00:23:03\n",
       "151368  31078565549911  93950878  76581354 2019-12-27 00:56:05"
      ]
     },
     "metadata": {},
     "output_type": "display_data"
    },
    {
     "name": "stdout",
     "output_type": "stream",
     "text": [
      "1.0\n"
     ]
    }
   ],
   "source": [
    "from datetime import timedelta\n",
    "print(shopid0.iloc[0].event_time)\n",
    "print(shopid0.iloc[0].event_time+timedelta(hours=1))\n",
    "start = shopid0.iloc[0].event_time\n",
    "end = start + timedelta(hours=1)\n",
    "period0 = shopid0[(start<=shopid0.event_time)&(shopid0.event_time<=end)]\n",
    "display(period0.head())\n",
    "print(len(period0)/period0.userid.nunique())"
   ]
  },
  {
   "cell_type": "code",
   "execution_count": 86,
   "metadata": {},
   "outputs": [
    {
     "data": {
      "text/plain": [
       "181009364"
      ]
     },
     "execution_count": 86,
     "metadata": {},
     "output_type": "execute_result"
    }
   ],
   "source": [
    "181009364"
   ]
  },
  {
   "cell_type": "code",
   "execution_count": 87,
   "metadata": {},
   "outputs": [
    {
     "data": {
      "text/html": [
       "<div>\n",
       "<style scoped>\n",
       "    .dataframe tbody tr th:only-of-type {\n",
       "        vertical-align: middle;\n",
       "    }\n",
       "\n",
       "    .dataframe tbody tr th {\n",
       "        vertical-align: top;\n",
       "    }\n",
       "\n",
       "    .dataframe thead th {\n",
       "        text-align: right;\n",
       "    }\n",
       "</style>\n",
       "<table border=\"1\" class=\"dataframe\">\n",
       "  <thead>\n",
       "    <tr style=\"text-align: right;\">\n",
       "      <th></th>\n",
       "      <th>index</th>\n",
       "      <th>orderid</th>\n",
       "      <th>shopid</th>\n",
       "      <th>userid</th>\n",
       "      <th>event_time</th>\n",
       "    </tr>\n",
       "  </thead>\n",
       "  <tbody>\n",
       "    <tr>\n",
       "      <th>0</th>\n",
       "      <td>73106</td>\n",
       "      <td>31076433523765</td>\n",
       "      <td>181009364</td>\n",
       "      <td>214208720</td>\n",
       "      <td>2019-12-27 00:20:33</td>\n",
       "    </tr>\n",
       "    <tr>\n",
       "      <th>1</th>\n",
       "      <td>115420</td>\n",
       "      <td>31077003494175</td>\n",
       "      <td>181009364</td>\n",
       "      <td>214208720</td>\n",
       "      <td>2019-12-27 00:30:03</td>\n",
       "    </tr>\n",
       "    <tr>\n",
       "      <th>2</th>\n",
       "      <td>9891</td>\n",
       "      <td>31078405144719</td>\n",
       "      <td>181009364</td>\n",
       "      <td>214208720</td>\n",
       "      <td>2019-12-27 00:53:26</td>\n",
       "    </tr>\n",
       "    <tr>\n",
       "      <th>3</th>\n",
       "      <td>169569</td>\n",
       "      <td>31167197128282</td>\n",
       "      <td>181009364</td>\n",
       "      <td>27847950</td>\n",
       "      <td>2019-12-28 01:33:18</td>\n",
       "    </tr>\n",
       "    <tr>\n",
       "      <th>4</th>\n",
       "      <td>155018</td>\n",
       "      <td>31200690834058</td>\n",
       "      <td>181009364</td>\n",
       "      <td>214515524</td>\n",
       "      <td>2019-12-28 10:51:30</td>\n",
       "    </tr>\n",
       "  </tbody>\n",
       "</table>\n",
       "</div>"
      ],
      "text/plain": [
       "    index         orderid     shopid     userid          event_time\n",
       "0   73106  31076433523765  181009364  214208720 2019-12-27 00:20:33\n",
       "1  115420  31077003494175  181009364  214208720 2019-12-27 00:30:03\n",
       "2    9891  31078405144719  181009364  214208720 2019-12-27 00:53:26\n",
       "3  169569  31167197128282  181009364   27847950 2019-12-28 01:33:18\n",
       "4  155018  31200690834058  181009364  214515524 2019-12-28 10:51:30"
      ]
     },
     "metadata": {},
     "output_type": "display_data"
    },
    {
     "name": "stdout",
     "output_type": "stream",
     "text": [
      "2019-12-27 00:20:33 2019-12-27 01:20:33\n",
      "brushing\n"
     ]
    },
    {
     "data": {
      "text/html": [
       "<div>\n",
       "<style scoped>\n",
       "    .dataframe tbody tr th:only-of-type {\n",
       "        vertical-align: middle;\n",
       "    }\n",
       "\n",
       "    .dataframe tbody tr th {\n",
       "        vertical-align: top;\n",
       "    }\n",
       "\n",
       "    .dataframe thead th {\n",
       "        text-align: right;\n",
       "    }\n",
       "</style>\n",
       "<table border=\"1\" class=\"dataframe\">\n",
       "  <thead>\n",
       "    <tr style=\"text-align: right;\">\n",
       "      <th></th>\n",
       "      <th>index</th>\n",
       "      <th>orderid</th>\n",
       "      <th>shopid</th>\n",
       "      <th>userid</th>\n",
       "      <th>event_time</th>\n",
       "    </tr>\n",
       "  </thead>\n",
       "  <tbody>\n",
       "    <tr>\n",
       "      <th>0</th>\n",
       "      <td>73106</td>\n",
       "      <td>31076433523765</td>\n",
       "      <td>181009364</td>\n",
       "      <td>214208720</td>\n",
       "      <td>2019-12-27 00:20:33</td>\n",
       "    </tr>\n",
       "    <tr>\n",
       "      <th>1</th>\n",
       "      <td>115420</td>\n",
       "      <td>31077003494175</td>\n",
       "      <td>181009364</td>\n",
       "      <td>214208720</td>\n",
       "      <td>2019-12-27 00:30:03</td>\n",
       "    </tr>\n",
       "    <tr>\n",
       "      <th>2</th>\n",
       "      <td>9891</td>\n",
       "      <td>31078405144719</td>\n",
       "      <td>181009364</td>\n",
       "      <td>214208720</td>\n",
       "      <td>2019-12-27 00:53:26</td>\n",
       "    </tr>\n",
       "  </tbody>\n",
       "</table>\n",
       "</div>"
      ],
      "text/plain": [
       "    index         orderid     shopid     userid          event_time\n",
       "0   73106  31076433523765  181009364  214208720 2019-12-27 00:20:33\n",
       "1  115420  31077003494175  181009364  214208720 2019-12-27 00:30:03\n",
       "2    9891  31078405144719  181009364  214208720 2019-12-27 00:53:26"
      ]
     },
     "metadata": {},
     "output_type": "display_data"
    },
    {
     "name": "stdout",
     "output_type": "stream",
     "text": [
      "2019-12-29 13:54:31 2019-12-29 14:54:31\n",
      "brushing\n"
     ]
    },
    {
     "data": {
      "text/html": [
       "<div>\n",
       "<style scoped>\n",
       "    .dataframe tbody tr th:only-of-type {\n",
       "        vertical-align: middle;\n",
       "    }\n",
       "\n",
       "    .dataframe tbody tr th {\n",
       "        vertical-align: top;\n",
       "    }\n",
       "\n",
       "    .dataframe thead th {\n",
       "        text-align: right;\n",
       "    }\n",
       "</style>\n",
       "<table border=\"1\" class=\"dataframe\">\n",
       "  <thead>\n",
       "    <tr style=\"text-align: right;\">\n",
       "      <th></th>\n",
       "      <th>index</th>\n",
       "      <th>orderid</th>\n",
       "      <th>shopid</th>\n",
       "      <th>userid</th>\n",
       "      <th>event_time</th>\n",
       "    </tr>\n",
       "  </thead>\n",
       "  <tbody>\n",
       "    <tr>\n",
       "      <th>7</th>\n",
       "      <td>36584</td>\n",
       "      <td>31298070356347</td>\n",
       "      <td>181009364</td>\n",
       "      <td>101832161</td>\n",
       "      <td>2019-12-29 13:54:31</td>\n",
       "    </tr>\n",
       "    <tr>\n",
       "      <th>8</th>\n",
       "      <td>136504</td>\n",
       "      <td>31298092385907</td>\n",
       "      <td>181009364</td>\n",
       "      <td>101832161</td>\n",
       "      <td>2019-12-29 13:54:52</td>\n",
       "    </tr>\n",
       "    <tr>\n",
       "      <th>9</th>\n",
       "      <td>123695</td>\n",
       "      <td>31298150262970</td>\n",
       "      <td>181009364</td>\n",
       "      <td>101832161</td>\n",
       "      <td>2019-12-29 13:55:51</td>\n",
       "    </tr>\n",
       "  </tbody>\n",
       "</table>\n",
       "</div>"
      ],
      "text/plain": [
       "    index         orderid     shopid     userid          event_time\n",
       "7   36584  31298070356347  181009364  101832161 2019-12-29 13:54:31\n",
       "8  136504  31298092385907  181009364  101832161 2019-12-29 13:54:52\n",
       "9  123695  31298150262970  181009364  101832161 2019-12-29 13:55:51"
      ]
     },
     "metadata": {},
     "output_type": "display_data"
    },
    {
     "name": "stdout",
     "output_type": "stream",
     "text": [
      "{214208720: 3, 101832161: 3}\n",
      "6\n",
      "[214208720, 101832161]\n",
      "214208720&101832161\n"
     ]
    }
   ],
   "source": [
    "shopid0 = df[df.shopid==181009364].sort_values(by='event_time')\n",
    "shopid0.reset_index(inplace=True)\n",
    "display(shopid0.head())\n",
    "i = 0\n",
    "brushing_periods = 0\n",
    "brushing_users = {}\n",
    "while i<shopid0.shape[0]:\n",
    "    \n",
    "    start = shopid0.event_time[i]\n",
    "    end = start + timedelta(hours=1)\n",
    "    \n",
    "    period0 = shopid0[(start<=shopid0.event_time)&(shopid0.event_time<=end)]    \n",
    "    brushing_period = len(period0)\n",
    "    unique_user = period0.userid.nunique()\n",
    "    if brushing_period/unique_user>=3:\n",
    "        print(start,end)\n",
    "        print(\"brushing\")\n",
    "        display(period0)\n",
    "        brushing_periods+=brushing_period\n",
    "        d = period0.userid.value_counts().to_dict()\n",
    "        for k in d:\n",
    "            if k in brushing_users:\n",
    "                brushing_users[k]+=d[k]\n",
    "            else:\n",
    "                brushing_users[k] = d[k]\n",
    "    i = period0.index[-1] +1\n",
    "print(brushing_users)\n",
    "print(brushing_periods)\n",
    "userid = []\n",
    "if brushing_periods>0:\n",
    "    k = sorted(brushing_users,key=lambda x:brushing_users[x],reverse=True)\n",
    "    userid = [k[0]]\n",
    "    for i in range(1,len(k)):\n",
    "        if brushing_users[k[i]] == brushing_users[k[0]]:\n",
    "            userid.append(k[i])\n",
    "print(userid)\n",
    "print(\"&\".join(map(str,userid)))"
   ]
  },
  {
   "cell_type": "code",
   "execution_count": null,
   "metadata": {},
   "outputs": [],
   "source": []
  },
  {
   "cell_type": "code",
   "execution_count": null,
   "metadata": {},
   "outputs": [],
   "source": []
  },
  {
   "cell_type": "code",
   "execution_count": null,
   "metadata": {},
   "outputs": [],
   "source": []
  },
  {
   "cell_type": "code",
   "execution_count": 26,
   "metadata": {
    "scrolled": true
   },
   "outputs": [
    {
     "data": {
      "text/plain": [
       "1.0"
      ]
     },
     "execution_count": 26,
     "metadata": {},
     "output_type": "execute_result"
    }
   ],
   "source": []
  },
  {
   "cell_type": "code",
   "execution_count": null,
   "metadata": {},
   "outputs": [],
   "source": []
  }
 ],
 "metadata": {
  "kernelspec": {
   "display_name": "Python 3",
   "language": "python",
   "name": "python3"
  },
  "language_info": {
   "codemirror_mode": {
    "name": "ipython",
    "version": 3
   },
   "file_extension": ".py",
   "mimetype": "text/x-python",
   "name": "python",
   "nbconvert_exporter": "python",
   "pygments_lexer": "ipython3",
   "version": "3.8.2"
  }
 },
 "nbformat": 4,
 "nbformat_minor": 4
}
